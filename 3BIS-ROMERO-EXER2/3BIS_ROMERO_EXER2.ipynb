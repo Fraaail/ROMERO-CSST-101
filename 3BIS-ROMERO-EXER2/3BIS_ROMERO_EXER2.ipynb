{
  "cells": [
    {
      "cell_type": "markdown",
      "metadata": {
        "id": "7QIpn3YL2uMH"
      },
      "source": [
        "# **CSST-101**\n",
        "* **Name:** Keayon Ivan V. Romero\n",
        "* **Section:** BSCS - 3BIS\n",
        "* **Teacher:** Sir Mark Bernardino\n",
        "\n",
        "# **Laboratory Exercise 2**"
      ]
    },
    {
      "cell_type": "markdown",
      "metadata": {
        "id": "ZXgCFrlu2P0N"
      },
      "source": [
        "# **Exercise 1: Introduction to Probability Theory in AI**\n",
        "\n",
        "**Objective:** Understand the fundamentals of probability theory and its application in AI for decision-making under uncertainty.\n",
        "\n",
        "**Tasks:**\n",
        "1. Basic Probability Calculation: Write Python functions that calculate the following:\n",
        "* Joint Probability: The probability of two events happening together.\n",
        "* Marginal Probability: The probability of an individual event, summing over\n",
        "all possible outcomes.\n",
        "* Conditional Probability: The probability of an event given that another event\n",
        "has occurred.\n",
        "\n",
        "**Assessment Task 1: Basic Probability Calculations**\n",
        "1. Start with a Coding Task:\n",
        "* Write Python functions to compute joint probability, marginal probability, and\n",
        "conditional probability.\n",
        "2. Interactive Question:\n",
        "* Question: If the probability of event A is 0.3 and the probability of event B is 0.4,\n",
        "what is the joint probability of A and B assuming they are independent?\n",
        "* Answer using Code: Implement the function joint_probability(p_A, p_B) to compute the result and submit it to see if your code is correct."
      ]
    },
    {
      "cell_type": "code",
      "execution_count": 1,
      "metadata": {
        "colab": {
          "base_uri": "https://localhost:8080/"
        },
        "id": "ik4hlyuz3s3w",
        "outputId": "58fc00ba-388f-40d0-d3e1-8fe6134d9fbc"
      },
      "outputs": [
        {
          "output_type": "stream",
          "name": "stdout",
          "text": [
            "Joint Probability: 0.12\n",
            "Marginal Probability: 0.58\n",
            "Conditional Probability: 0.6\n"
          ]
        }
      ],
      "source": [
        "def joint_prob(p_A, p_B):\n",
        "  return p_A * p_B\n",
        "\n",
        "def marginal_prob(p_A, p_B):\n",
        "  return p_A + p_B - joint_prob(p_A, p_B)\n",
        "\n",
        "def conditional_prob(p_B_given_A, p_A, p_B):\n",
        "  return (p_B_given_A * p_A) / p_B\n",
        "\n",
        "p_A = 0.3\n",
        "p_B = 0.4\n",
        "p_B_given_A = 0.8\n",
        "\n",
        "print(f\"Joint Probability: {joint_prob(p_A, p_B)}\")\n",
        "print(f\"Marginal Probability: {marginal_prob(p_A, p_B)}\")\n",
        "print(f\"Conditional Probability: {conditional_prob(p_B_given_A, p_A, p_B)}\")"
      ]
    },
    {
      "cell_type": "markdown",
      "metadata": {
        "id": "wLtvEJlH5Ql2"
      },
      "source": [
        "# **Exercise 2: Decision-Making Under Uncertainty**\n",
        "**Objective:** Apply probability theory to make decisions in uncertain environments, such as AI systems that need to weigh the outcomes of different choices.\n",
        "\n",
        "**Tasks:**\n",
        "1. Simulate a Decision Process: Write a Python script that simulates a decision- making process where the outcomes are uncertain.\n",
        "* Model the probability of success and failure for a decision.\n",
        "* Calculate the expected value of making a particular decision.\n",
        "2. Decision Tree Example: Create a decision tree where each branch represents a different action and associated probabilities for outcomes (profit or loss).\n",
        "* Example: Simulate a robot making decisions in an uncertain environment with probabilities for success and failure.\n",
        "\n",
        "**Assessment Task 3: Decision-Making Under Uncertainty**\n",
        "1. Interactive Decision Simulation:\n",
        "* You are tasked with simulating a decision-making process using Python. In\n",
        "this simulation, an AI system must choose between two investment options with uncertain outcomes (profit or loss).\n",
        "2. Interactive Task:\n",
        "* Task: Implement a function that simulates the decision-making process for\n",
        "1000 iterations. The probability of success is 70%, and the reward for\n",
        "success is $1000, while the penalty for failure is -$500.\n",
        "* Interactive Input: Adjust the probability of success or failure and simulate\n",
        "different outcomes.\n"
      ]
    },
    {
      "cell_type": "code",
      "execution_count": 2,
      "metadata": {
        "colab": {
          "base_uri": "https://localhost:8080/"
        },
        "id": "JWA8hrWp5ZpR",
        "outputId": "c1f8c4ec-1884-4f16-e9c6-c519cffcb5a2"
      },
      "outputs": [
        {
          "output_type": "stream",
          "name": "stdout",
          "text": [
            "Expected value of decision: 557.5\n"
          ]
        }
      ],
      "source": [
        "import numpy as np\n",
        "\n",
        "def simulate_decision(num_simul, p_success, reward_success, reward_failure):\n",
        "  outcomes = []\n",
        "  for _ in range(num_simul):\n",
        "    if np.random.rand() < p_success:\n",
        "        outcomes.append(reward_success)\n",
        "    else:\n",
        "        outcomes.append(reward_failure)\n",
        "  return np.mean(outcomes)\n",
        "\n",
        "p_success = 0.7\n",
        "reward_success = 1000\n",
        "reward_failure = -500\n",
        "\n",
        "ave_outcome = simulate_decision(1000, p_success, reward_success, reward_failure)\n",
        "print(f\"Expected value of decision: {ave_outcome}\")"
      ]
    },
    {
      "cell_type": "markdown",
      "metadata": {
        "id": "lssFJkxD691E"
      },
      "source": [
        "# **Exercise 3: Applying Probability Theory in AI for Diagnosis**\n",
        "**Objective:** Use probabilistic reasoning to model uncertainty in a real-world scenario such as medical diagnosis.\n",
        "\n",
        "**Tasks:**\n",
        "1. Medical Diagnosis Example: Model a scenario where an AI must diagnose a disease based on test results.\n",
        "* Define the prior probabilities of having the disease.\n",
        "* Define the likelihood of the test being positive given the presence or absence of the disease.\n",
        "* Use Bayes’ Theorem to calculate the posterior probability of the disease given a positive test result.\n",
        "\n",
        "**Assessment Task 2: Bayesian Inference**\n",
        "1. Interactive Bayesian Model:\n",
        "* Implement a Python function that performs Bayesian inference to update the\n",
        "probability of a hypothesis based on new evidence.\n",
        "* For this task, you'll be asked to compute the probability of having a disease\n",
        "given a positive test result.\n",
        "2. Interactive Scenario:\n",
        "* Scenario: A test for a disease has a 90% accuracy for positive results, and 5%\n",
        "of people without the disease test positive. If 1% of the population has the disease, what is the probability that someone who tested positive actually has the disease?"
      ]
    },
    {
      "cell_type": "code",
      "execution_count": 3,
      "metadata": {
        "colab": {
          "base_uri": "https://localhost:8080/"
        },
        "id": "1w5wB04s7I4d",
        "outputId": "2b856541-919a-4c75-f443-0a30fd5aa45a"
      },
      "outputs": [
        {
          "output_type": "stream",
          "name": "stdout",
          "text": [
            "Posterior probability of disease given positive test: 0.18000000000000002\n"
          ]
        }
      ],
      "source": [
        "def bayesian_inference(prior, likelihood_positive_given_disease, likelihood_positive):\n",
        "  posterior = (likelihood_positive_given_disease * prior) / likelihood_positive\n",
        "  return posterior\n",
        "\n",
        "prior_disease = 0.01\n",
        "likelihood_positive_given_disease = 0.9\n",
        "likelihood_positive = 0.05\n",
        "\n",
        "posterior_disease = bayesian_inference(prior_disease, likelihood_positive_given_disease, likelihood_positive)\n",
        "print(f\"Posterior probability of disease given positive test: {posterior_disease}\")"
      ]
    },
    {
      "cell_type": "markdown",
      "metadata": {
        "id": "XNscXGd58enh"
      },
      "source": [
        "# **Exercise 4: Probability Distribution in AI**\n",
        "**Objective:** Work with probability distributions that are key in AI for representing uncertainty.\n",
        "\n",
        "**Tasks:**\n",
        "1. Simulate Probability Distributions: Write a Python script that generates data from\n",
        "common probability distributions (e.g., binomial, normal) using numpy or scipy.\n",
        "2. Visualize the Distribution: Use a plotting library (e.g., matplotlib) to visualize the\n",
        "distribution and interpret the results.\n",
        "\n",
        "**Assessment Task 5: Probability Distributions Visualization**\n",
        "1. Interactive Visualization Task:\n",
        "* Write Python code to generate and visualize binomial and normal probability\n",
        "distributions.\n",
        "2. Interactive Question:\n",
        "* Task: Simulate 1000 coin flips using a binomial distribution and visualize the\n",
        "outcomes.\n",
        "* Follow-Up: How does increasing the number of trials or changing the\n",
        "probability of heads affect the distribution?"
      ]
    },
    {
      "cell_type": "code",
      "execution_count": 4,
      "metadata": {
        "colab": {
          "base_uri": "https://localhost:8080/",
          "height": 452
        },
        "id": "hT-hixXG8jx5",
        "outputId": "5a7dc5d8-4dbb-46d7-81a7-292ff9dd095d"
      },
      "outputs": [
        {
          "output_type": "display_data",
          "data": {
            "text/plain": [
              "<Figure size 640x480 with 1 Axes>"
            ],
            "image/png": "[encoded data removed]"
          },
          "metadata": {}
        }
      ],
      "source": [
        "import numpy as np\n",
        "import matplotlib.pyplot as plt\n",
        "\n",
        "n_trials = 1000\n",
        "p_head = 0.5\n",
        "binomial_distribution = np.random.binomial(n=1, p=p_head, size=n_trials)\n",
        "\n",
        "plt.hist(binomial_distribution, bins=2)\n",
        "plt.title('Binomial Distribution (Coin Flips)')\n",
        "plt.show()"
      ]
    },
    {
      "cell_type": "markdown",
      "metadata": {
        "id": "0c549kJ39IUD"
      },
      "source": [
        "# **Exercise 5: Real-World Application of Probability in AI**\n",
        "**Objective:** Apply probability theory to real-world AI scenarios, such as predicting customer behavior or making decisions in uncertain markets.\n",
        "\n",
        "**Tasks:**\n",
        "1. Customer Behavior Prediction: Suppose you are working for an e-commerce company and need to predict the probability that a customer will make a purchase based on previous behavior.\n",
        "* Define probabilities for different user actions (e.g., clicking on a product, adding to cart, making a purchase).\n",
        "* Use conditional probability to predict the likelihood of a purchase given that a customer added an item to their cart.\n",
        "\n",
        "**Assessment Task 4: Real-World Scenario**\n",
        "1. Interactive Real-World Problem:\n",
        "* You are asked to model a real-world scenario in AI, such as predicting\n",
        "whether it will rain based on factors like humidity and cloud cover. Use conditional probabilities to model this scenario.\n",
        "2. Scenario Simulation:\n",
        "* Task: Implement a Python script that uses conditional probability to predict\n",
        "the likelihood of rain given evidence (humidity and cloud cover).\n",
        "* Interactive Scenario: You can change the input conditions (e.g., increase humidity or cloud cover) to see how the probability of rain changes in real-\n",
        "time."
      ]
    },
    {
      "cell_type": "code",
      "execution_count": 5,
      "metadata": {
        "colab": {
          "base_uri": "https://localhost:8080/"
        },
        "id": "S2Ts7yCl9SUT",
        "outputId": "89fb1dc9-2dfd-49a1-94fb-720a80828fc9"
      },
      "outputs": [
        {
          "output_type": "stream",
          "name": "stdout",
          "text": [
            "Probability of rain: 0.24\n"
          ]
        }
      ],
      "source": [
        "p_humid = 0.6\n",
        "p_cloud = 0.4\n",
        "\n",
        "p_weather = conditional_prob(p_humid, p_cloud, 1)\n",
        "print(f\"Probability of rain: {p_weather}\")"
      ]
    }
  ],
  "metadata": {
    "colab": {
      "provenance": []
    },
    "kernelspec": {
      "display_name": "Python 3",
      "name": "python3"
    },
    "language_info": {
      "name": "python",
      "version": "3.11.5"
    }
  },
  "nbformat": 4,
  "nbformat_minor": 0
}